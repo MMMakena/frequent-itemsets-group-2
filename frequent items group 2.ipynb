{
 "cells": [
  {
   "cell_type": "markdown",
   "id": "2d887759",
   "metadata": {},
   "source": [
    "### Codes reviewed and edited by Mitchel "
   ]
  },
  {
   "cell_type": "markdown",
   "id": "a3cccb3a",
   "metadata": {},
   "source": [
    "## Stimulate Transactions for a Supermarket Dataset\n",
    "### Student: Julie"
   ]
  },
  {
   "cell_type": "code",
   "execution_count": 6,
   "id": "aa076075",
   "metadata": {},
   "outputs": [
    {
     "data": {
      "text/plain": [
       "[['Tomatoes', 'Spinach'],\n",
       " ['Spinach', 'Bread', 'Tomatoes', 'Tea'],\n",
       " ['Bananas', 'Tomatoes'],\n",
       " ['Ground Beef', 'Butter', 'Cookies', 'Lettuce'],\n",
       " ['Rice', 'Pasta']]"
      ]
     },
     "execution_count": 6,
     "metadata": {},
     "output_type": "execute_result"
    }
   ],
   "source": [
    "# Loading necessary libraries - Mitchel\n",
    "import random\n",
    "import csv\n",
    "import pandas as pd\n",
    "\n",
    "# Define a pool of 30 unique supermarket items - Julie\n",
    "ITEM_POOL = [\n",
    "    \"Milk\", \"Bread\", \"Eggs\", \"Cheese\", \"Butter\", \"Chicken Breast\", \"Ground Beef\", \"Apples\",\n",
    "    \"Bananas\", \"Oranges\", \"Tomatoes\", \"Potatoes\", \"Onions\", \"Carrots\", \"Lettuce\", \"Spinach\",\n",
    "    \"Yogurt\", \"Cereal\", \"Rice\", \"Pasta\", \"Coffee\", \"Tea\", \"Juice\", \"Soda\", \"Water\",\n",
    "    \"Chocolate\", \"Cookies\", \"Ice Cream\", \"Laundry Detergent\", \"Toothpaste\"\n",
    "]\n",
    "\n",
    "# generate transactions\n",
    "transactions = []\n",
    "for _ in range(3000):\n",
    "    num_items = random.randint(2, 7)  # each transaction has 2-7 items\n",
    "    transaction = random.sample(ITEM_POOL, num_items)  # randomly select items\n",
    "    transactions.append(transaction)\n",
    "\n",
    "transactions[:5]  # display first 5 transactions for verification"
   ]
  },
  {
   "cell_type": "markdown",
   "id": "4ce463cc",
   "metadata": {},
   "source": [
    "# 2. preprocessing : one-hot encoding"
   ]
  },
  {
   "cell_type": "code",
   "execution_count": 14,
   "id": "1f732f61",
   "metadata": {},
   "outputs": [
    {
     "data": {
      "application/vnd.microsoft.datawrangler.viewer.v0+json": {
       "columns": [
        {
         "name": "index",
         "rawType": "int64",
         "type": "integer"
        },
        {
         "name": "Milk",
         "rawType": "int64",
         "type": "integer"
        },
        {
         "name": "Bread",
         "rawType": "int64",
         "type": "integer"
        },
        {
         "name": "Eggs",
         "rawType": "int64",
         "type": "integer"
        },
        {
         "name": "Cheese",
         "rawType": "int64",
         "type": "integer"
        },
        {
         "name": "Butter",
         "rawType": "int64",
         "type": "integer"
        },
        {
         "name": "Chicken Breast",
         "rawType": "int64",
         "type": "integer"
        },
        {
         "name": "Ground Beef",
         "rawType": "int64",
         "type": "integer"
        },
        {
         "name": "Apples",
         "rawType": "int64",
         "type": "integer"
        },
        {
         "name": "Bananas",
         "rawType": "int64",
         "type": "integer"
        },
        {
         "name": "Oranges",
         "rawType": "int64",
         "type": "integer"
        },
        {
         "name": "Tomatoes",
         "rawType": "int64",
         "type": "integer"
        },
        {
         "name": "Potatoes",
         "rawType": "int64",
         "type": "integer"
        },
        {
         "name": "Onions",
         "rawType": "int64",
         "type": "integer"
        },
        {
         "name": "Carrots",
         "rawType": "int64",
         "type": "integer"
        },
        {
         "name": "Lettuce",
         "rawType": "int64",
         "type": "integer"
        },
        {
         "name": "Spinach",
         "rawType": "int64",
         "type": "integer"
        },
        {
         "name": "Yogurt",
         "rawType": "int64",
         "type": "integer"
        },
        {
         "name": "Cereal",
         "rawType": "int64",
         "type": "integer"
        },
        {
         "name": "Rice",
         "rawType": "int64",
         "type": "integer"
        },
        {
         "name": "Pasta",
         "rawType": "int64",
         "type": "integer"
        },
        {
         "name": "Coffee",
         "rawType": "int64",
         "type": "integer"
        },
        {
         "name": "Tea",
         "rawType": "int64",
         "type": "integer"
        },
        {
         "name": "Juice",
         "rawType": "int64",
         "type": "integer"
        },
        {
         "name": "Soda",
         "rawType": "int64",
         "type": "integer"
        },
        {
         "name": "Water",
         "rawType": "int64",
         "type": "integer"
        },
        {
         "name": "Chocolate",
         "rawType": "int64",
         "type": "integer"
        },
        {
         "name": "Cookies",
         "rawType": "int64",
         "type": "integer"
        },
        {
         "name": "Ice Cream",
         "rawType": "int64",
         "type": "integer"
        },
        {
         "name": "Laundry Detergent",
         "rawType": "int64",
         "type": "integer"
        },
        {
         "name": "Toothpaste",
         "rawType": "int64",
         "type": "integer"
        }
       ],
       "ref": "bc96390c-764d-43ea-87d4-d8401443a75c",
       "rows": [
        [
         "0",
         "0",
         "0",
         "0",
         "0",
         "0",
         "0",
         "0",
         "0",
         "0",
         "0",
         "1",
         "0",
         "0",
         "0",
         "0",
         "1",
         "0",
         "0",
         "0",
         "0",
         "0",
         "0",
         "0",
         "0",
         "0",
         "0",
         "0",
         "0",
         "0",
         "0"
        ],
        [
         "1",
         "0",
         "1",
         "0",
         "0",
         "0",
         "0",
         "0",
         "0",
         "0",
         "0",
         "1",
         "0",
         "0",
         "0",
         "0",
         "1",
         "0",
         "0",
         "0",
         "0",
         "0",
         "1",
         "0",
         "0",
         "0",
         "0",
         "0",
         "0",
         "0",
         "0"
        ],
        [
         "2",
         "0",
         "0",
         "0",
         "0",
         "0",
         "0",
         "0",
         "0",
         "1",
         "0",
         "1",
         "0",
         "0",
         "0",
         "0",
         "0",
         "0",
         "0",
         "0",
         "0",
         "0",
         "0",
         "0",
         "0",
         "0",
         "0",
         "0",
         "0",
         "0",
         "0"
        ],
        [
         "3",
         "0",
         "0",
         "0",
         "0",
         "1",
         "0",
         "1",
         "0",
         "0",
         "0",
         "0",
         "0",
         "0",
         "0",
         "1",
         "0",
         "0",
         "0",
         "0",
         "0",
         "0",
         "0",
         "0",
         "0",
         "0",
         "0",
         "1",
         "0",
         "0",
         "0"
        ],
        [
         "4",
         "0",
         "0",
         "0",
         "0",
         "0",
         "0",
         "0",
         "0",
         "0",
         "0",
         "0",
         "0",
         "0",
         "0",
         "0",
         "0",
         "0",
         "0",
         "1",
         "1",
         "0",
         "0",
         "0",
         "0",
         "0",
         "0",
         "0",
         "0",
         "0",
         "0"
        ]
       ],
       "shape": {
        "columns": 30,
        "rows": 5
       }
      },
      "text/html": [
       "<div>\n",
       "<style scoped>\n",
       "    .dataframe tbody tr th:only-of-type {\n",
       "        vertical-align: middle;\n",
       "    }\n",
       "\n",
       "    .dataframe tbody tr th {\n",
       "        vertical-align: top;\n",
       "    }\n",
       "\n",
       "    .dataframe thead th {\n",
       "        text-align: right;\n",
       "    }\n",
       "</style>\n",
       "<table border=\"1\" class=\"dataframe\">\n",
       "  <thead>\n",
       "    <tr style=\"text-align: right;\">\n",
       "      <th></th>\n",
       "      <th>Milk</th>\n",
       "      <th>Bread</th>\n",
       "      <th>Eggs</th>\n",
       "      <th>Cheese</th>\n",
       "      <th>Butter</th>\n",
       "      <th>Chicken Breast</th>\n",
       "      <th>Ground Beef</th>\n",
       "      <th>Apples</th>\n",
       "      <th>Bananas</th>\n",
       "      <th>Oranges</th>\n",
       "      <th>...</th>\n",
       "      <th>Coffee</th>\n",
       "      <th>Tea</th>\n",
       "      <th>Juice</th>\n",
       "      <th>Soda</th>\n",
       "      <th>Water</th>\n",
       "      <th>Chocolate</th>\n",
       "      <th>Cookies</th>\n",
       "      <th>Ice Cream</th>\n",
       "      <th>Laundry Detergent</th>\n",
       "      <th>Toothpaste</th>\n",
       "    </tr>\n",
       "  </thead>\n",
       "  <tbody>\n",
       "    <tr>\n",
       "      <th>0</th>\n",
       "      <td>0</td>\n",
       "      <td>0</td>\n",
       "      <td>0</td>\n",
       "      <td>0</td>\n",
       "      <td>0</td>\n",
       "      <td>0</td>\n",
       "      <td>0</td>\n",
       "      <td>0</td>\n",
       "      <td>0</td>\n",
       "      <td>0</td>\n",
       "      <td>...</td>\n",
       "      <td>0</td>\n",
       "      <td>0</td>\n",
       "      <td>0</td>\n",
       "      <td>0</td>\n",
       "      <td>0</td>\n",
       "      <td>0</td>\n",
       "      <td>0</td>\n",
       "      <td>0</td>\n",
       "      <td>0</td>\n",
       "      <td>0</td>\n",
       "    </tr>\n",
       "    <tr>\n",
       "      <th>1</th>\n",
       "      <td>0</td>\n",
       "      <td>1</td>\n",
       "      <td>0</td>\n",
       "      <td>0</td>\n",
       "      <td>0</td>\n",
       "      <td>0</td>\n",
       "      <td>0</td>\n",
       "      <td>0</td>\n",
       "      <td>0</td>\n",
       "      <td>0</td>\n",
       "      <td>...</td>\n",
       "      <td>0</td>\n",
       "      <td>1</td>\n",
       "      <td>0</td>\n",
       "      <td>0</td>\n",
       "      <td>0</td>\n",
       "      <td>0</td>\n",
       "      <td>0</td>\n",
       "      <td>0</td>\n",
       "      <td>0</td>\n",
       "      <td>0</td>\n",
       "    </tr>\n",
       "    <tr>\n",
       "      <th>2</th>\n",
       "      <td>0</td>\n",
       "      <td>0</td>\n",
       "      <td>0</td>\n",
       "      <td>0</td>\n",
       "      <td>0</td>\n",
       "      <td>0</td>\n",
       "      <td>0</td>\n",
       "      <td>0</td>\n",
       "      <td>1</td>\n",
       "      <td>0</td>\n",
       "      <td>...</td>\n",
       "      <td>0</td>\n",
       "      <td>0</td>\n",
       "      <td>0</td>\n",
       "      <td>0</td>\n",
       "      <td>0</td>\n",
       "      <td>0</td>\n",
       "      <td>0</td>\n",
       "      <td>0</td>\n",
       "      <td>0</td>\n",
       "      <td>0</td>\n",
       "    </tr>\n",
       "    <tr>\n",
       "      <th>3</th>\n",
       "      <td>0</td>\n",
       "      <td>0</td>\n",
       "      <td>0</td>\n",
       "      <td>0</td>\n",
       "      <td>1</td>\n",
       "      <td>0</td>\n",
       "      <td>1</td>\n",
       "      <td>0</td>\n",
       "      <td>0</td>\n",
       "      <td>0</td>\n",
       "      <td>...</td>\n",
       "      <td>0</td>\n",
       "      <td>0</td>\n",
       "      <td>0</td>\n",
       "      <td>0</td>\n",
       "      <td>0</td>\n",
       "      <td>0</td>\n",
       "      <td>1</td>\n",
       "      <td>0</td>\n",
       "      <td>0</td>\n",
       "      <td>0</td>\n",
       "    </tr>\n",
       "    <tr>\n",
       "      <th>4</th>\n",
       "      <td>0</td>\n",
       "      <td>0</td>\n",
       "      <td>0</td>\n",
       "      <td>0</td>\n",
       "      <td>0</td>\n",
       "      <td>0</td>\n",
       "      <td>0</td>\n",
       "      <td>0</td>\n",
       "      <td>0</td>\n",
       "      <td>0</td>\n",
       "      <td>...</td>\n",
       "      <td>0</td>\n",
       "      <td>0</td>\n",
       "      <td>0</td>\n",
       "      <td>0</td>\n",
       "      <td>0</td>\n",
       "      <td>0</td>\n",
       "      <td>0</td>\n",
       "      <td>0</td>\n",
       "      <td>0</td>\n",
       "      <td>0</td>\n",
       "    </tr>\n",
       "  </tbody>\n",
       "</table>\n",
       "<p>5 rows × 30 columns</p>\n",
       "</div>"
      ],
      "text/plain": [
       "   Milk  Bread  Eggs  Cheese  Butter  Chicken Breast  Ground Beef  Apples  \\\n",
       "0     0      0     0       0       0               0            0       0   \n",
       "1     0      1     0       0       0               0            0       0   \n",
       "2     0      0     0       0       0               0            0       0   \n",
       "3     0      0     0       0       1               0            1       0   \n",
       "4     0      0     0       0       0               0            0       0   \n",
       "\n",
       "   Bananas  Oranges  ...  Coffee  Tea  Juice  Soda  Water  Chocolate  Cookies  \\\n",
       "0        0        0  ...       0    0      0     0      0          0        0   \n",
       "1        0        0  ...       0    1      0     0      0          0        0   \n",
       "2        1        0  ...       0    0      0     0      0          0        0   \n",
       "3        0        0  ...       0    0      0     0      0          0        1   \n",
       "4        0        0  ...       0    0      0     0      0          0        0   \n",
       "\n",
       "   Ice Cream  Laundry Detergent  Toothpaste  \n",
       "0          0                  0           0  \n",
       "1          0                  0           0  \n",
       "2          0                  0           0  \n",
       "3          0                  0           0  \n",
       "4          0                  0           0  \n",
       "\n",
       "[5 rows x 30 columns]"
      ]
     },
     "execution_count": 14,
     "metadata": {},
     "output_type": "execute_result"
    }
   ],
   "source": [
    "# convert transactions to a one-hot encoded format(rows=transactions, columns=ITEM_POOL)\n",
    "# this format is required for the apriori algorithm\n",
    "def create_one_hot_encoded_df(transactions, ITEM_POOL):\n",
    "    df = pd.DataFrame(0, index=range(len(transactions)), columns=ITEM_POOL)\n",
    "    for i, transaction in enumerate(transactions):\n",
    "        for item in transaction:\n",
    "            df.at[i, item] = 1\n",
    "    return df\n",
    "df = create_one_hot_encoded_df(transactions, ITEM_POOL)\n",
    "df.head()  # display first few rows of the one-hot encoded DataFrame\n",
    "\n",
    "# save to csv file\n",
    "df.to_csv('supermarket_transactions.csv', index=False)\n",
    "df.head()  # display first few rows of the saved DataFrame"
   ]
  },
  {
   "cell_type": "markdown",
   "id": "be018d5f",
   "metadata": {},
   "source": [
    "## Generate Frequent Itemsets\n",
    "###  Student: Kyra"
   ]
  },
  {
   "cell_type": "code",
   "execution_count": 9,
   "id": "6e5701dd",
   "metadata": {},
   "outputs": [
    {
     "name": "stdout",
     "output_type": "stream",
     "text": [
      "     support             itemsets\n",
      "27  0.157000          (Ice Cream)\n",
      "21  0.156000                (Tea)\n",
      "1   0.155333              (Bread)\n",
      "28  0.154333  (Laundry Detergent)\n",
      "5   0.154333     (Chicken Breast)\n",
      "16  0.154000             (Yogurt)\n",
      "14  0.154000            (Lettuce)\n",
      "4   0.153000             (Butter)\n",
      "29  0.152333         (Toothpaste)\n",
      "17  0.152333             (Cereal)\n"
     ]
    },
    {
     "name": "stderr",
     "output_type": "stream",
     "text": [
      "c:\\Users\\Makena\\AppData\\Local\\Programs\\Python\\Python311\\Lib\\site-packages\\mlxtend\\frequent_patterns\\fpcommon.py:161: DeprecationWarning: DataFrames with non-bool types result in worse computationalperformance and their support might be discontinued in the future.Please use a DataFrame with bool type\n",
      "  warnings.warn(\n"
     ]
    }
   ],
   "source": [
    "#Generated frequent itemsets with min_support=0.05 and saved top 10 to 'frequent_itemsets.csv'.\n",
    "import pandas as pd\n",
    "from mlxtend.frequent_patterns import apriori\n",
    "\n",
    "df = pd.read_csv(\"supermarket_transactions.csv\")\n",
    "\n",
    "# Use the one-hot encoded DataFrame directly\n",
    "frequent_itemsets = apriori(df, min_support=0.05, use_colnames=True)\n",
    "frequent_itemsets = frequent_itemsets.sort_values(by='support', ascending=False)\n",
    "\n",
    "print(frequent_itemsets.head(10))\n",
    "frequent_itemsets['itemsets'] = frequent_itemsets['itemsets'].apply(lambda x: ', '.join(list(x)))\n",
    "frequent_itemsets.head(10).to_csv(\"frequent_itemsets.csv\", index=False)"
   ]
  },
  {
   "cell_type": "markdown",
   "id": "a5465c0b",
   "metadata": {},
   "source": [
    "## Identify Closed Frequent Itemsets\n",
    "### Student: Claire"
   ]
  },
  {
   "cell_type": "code",
   "execution_count": 12,
   "id": "ae860358",
   "metadata": {},
   "outputs": [
    {
     "name": "stdout",
     "output_type": "stream",
     "text": [
      "Closed frequent itemsets:\n",
      "    support             itemsets\n",
      "0  0.157000          (Ice Cream)\n",
      "1  0.156000                (Tea)\n",
      "2  0.155333              (Bread)\n",
      "3  0.154333  (Laundry Detergent)\n",
      "4  0.154333     (Chicken Breast)\n",
      "5  0.154000             (Yogurt)\n",
      "6  0.154000            (Lettuce)\n",
      "7  0.153000             (Butter)\n",
      "8  0.152333         (Toothpaste)\n",
      "9  0.152333             (Cereal)\n"
     ]
    }
   ],
   "source": [
    "# === Closed Frequent Itemsets Identification ===\n",
    "# [Student: Claire]\n",
    "# Logic: An itemset is closed if there is no proper superset among the frequent itemsets with the same support.\n",
    "\n",
    "# Load the frequent itemsets CSV\n",
    "import pandas as pd\n",
    "frequent_itemsets = pd.read_csv(\"frequent_itemsets.csv\")\n",
    "\n",
    "# Convert 'itemsets' from string to frozenset for set operations\n",
    "frequent_itemsets['itemsets'] = frequent_itemsets['itemsets'].apply(lambda x: frozenset(map(str.strip, x.split(','))))\n",
    "\n",
    "# Identify closed frequent itemsets\n",
    "all_itemsets = list(frequent_itemsets['itemsets'])\n",
    "all_supports = list(frequent_itemsets['support'])\n",
    "\n",
    "# Check if a given itemset is closed\n",
    "def is_closed(idx, itemsets, supports):\n",
    "    \"\"\"Return True if itemsets[idx] is closed among all itemsets.\"\"\"\n",
    "    current_set = itemsets[idx]\n",
    "    current_support = supports[idx]\n",
    "    for j, candidate_set in enumerate(itemsets):\n",
    "        # Check if candidate is a strict superset and has the same support\n",
    "        if idx != j and current_set < candidate_set and supports[j] == current_support:\n",
    "            return False\n",
    "    return True\n",
    "\n",
    "# Apply the function to each itemset in the DataFrame\n",
    "closed_flags = []\n",
    "for i in range(len(frequent_itemsets)):\n",
    "    closed_flags.append(is_closed(i, all_itemsets, all_supports))\n",
    "\n",
    "frequent_itemsets['closed'] = closed_flags\n",
    "\n",
    "# Extract and display closed frequent itemsets\n",
    "closed_itemsets = frequent_itemsets[frequent_itemsets['closed'] == True]\n",
    "\n",
    "print(\"Closed frequent itemsets:\")\n",
    "print(closed_itemsets[['support', 'itemsets']])\n",
    "\n",
    "# Save to CSV\n",
    "closed_itemsets.to_csv('closed_frequent_itemsets.csv', index=False)"
   ]
  },
  {
   "cell_type": "markdown",
   "id": "20fba3e0",
   "metadata": {},
   "source": [
    "## Identifying Maximal Frequent Itemsets\n",
    "### Student:Esther"
   ]
  },
  {
   "cell_type": "code",
   "execution_count": 13,
   "id": "e9df7c1a",
   "metadata": {},
   "outputs": [
    {
     "name": "stdout",
     "output_type": "stream",
     "text": [
      "    support             itemsets  closed\n",
      "0  0.157000          (Ice Cream)    True\n",
      "1  0.156000                (Tea)    True\n",
      "2  0.155333              (Bread)    True\n",
      "3  0.154333  (Laundry Detergent)    True\n",
      "4  0.154333     (Chicken Breast)    True\n",
      "5  0.154000             (Yogurt)    True\n",
      "6  0.154000            (Lettuce)    True\n",
      "7  0.153000             (Butter)    True\n",
      "8  0.152333         (Toothpaste)    True\n",
      "9  0.152333             (Cereal)    True\n"
     ]
    }
   ],
   "source": [
    "\n",
    "def is_maximal(itemset, all_itemsets):\n",
    "    for other_itemset in all_itemsets['itemsets']:\n",
    "        if itemset < other_itemset:\n",
    "            return False\n",
    "    return True\n",
    "\n",
    "maximal_itemsets = frequent_itemsets[frequent_itemsets.apply(\n",
    "    lambda row: is_maximal(row['itemsets'], frequent_itemsets), axis=1)]\n",
    "#saving to CSV\n",
    "maximal_itemsets.to_csv('maximal_itemsets.csv', index=False)\n",
    "\n",
    "print(maximal_itemsets)"
   ]
  },
  {
   "cell_type": "markdown",
   "id": "ef2d6648",
   "metadata": {},
   "source": [
    "- This table summarizes the top 10 closed frequent itemsets found in the simulated supermarket transactions.\n",
    "- Each item (e.g., Water, Toothpaste) appears in over 15% of the 3,000 transactions, meaning these are commonly purchased items. \n",
    "-They are marked as closed because no larger itemset containing them appears in the same number of transactions — indicating that customers often buy these items on their own or in different combinations."
   ]
  }
 ],
 "metadata": {
  "kernelspec": {
   "display_name": "Python 3",
   "language": "python",
   "name": "python3"
  },
  "language_info": {
   "codemirror_mode": {
    "name": "ipython",
    "version": 3
   },
   "file_extension": ".py",
   "mimetype": "text/x-python",
   "name": "python",
   "nbconvert_exporter": "python",
   "pygments_lexer": "ipython3",
   "version": "3.11.4"
  }
 },
 "nbformat": 4,
 "nbformat_minor": 5
}
