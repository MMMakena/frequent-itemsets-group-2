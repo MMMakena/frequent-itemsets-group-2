{
 "cells": [
  {
   "cell_type": "code",
   "execution_count": 1,
   "id": "aa076075",
   "metadata": {},
   "outputs": [
    {
     "name": "stdout",
     "output_type": "stream",
     "text": [
      "Simulated 3000 supermarket transactions and saved to 'supermarket_transactions.csv'.\n"
     ]
    }
   ],
   "source": [
    "import random\n",
    "import csv\n",
    "\n",
    "# Define a pool of 30 unique supermarket items\n",
    "ITEM_POOL = [\n",
    "    \"Milk\", \"Bread\", \"Eggs\", \"Cheese\", \"Butter\", \"Chicken Breast\", \"Ground Beef\", \"Apples\",\n",
    "    \"Bananas\", \"Oranges\", \"Tomatoes\", \"Potatoes\", \"Onions\", \"Carrots\", \"Lettuce\", \"Spinach\",\n",
    "    \"Yogurt\", \"Cereal\", \"Rice\", \"Pasta\", \"Coffee\", \"Tea\", \"Juice\", \"Soda\", \"Water\",\n",
    "    \"Chocolate\", \"Cookies\", \"Ice Cream\", \"Laundry Detergent\", \"Toothpaste\"\n",
    "]\n",
    "\n",
    "def simulate_transactions(num_transactions=3000, item_pool=ITEM_POOL, min_items=2, max_items=7):\n",
    "    transactions = []\n",
    "    for txn_id in range(1, num_transactions + 1):\n",
    "        num_items = random.randint(min_items, max_items)\n",
    "        items = random.sample(item_pool, num_items)\n",
    "        transactions.append({\n",
    "            \"TransactionID\": txn_id,\n",
    "            \"Items\": \", \".join(items)\n",
    "        })\n",
    "    return transactions\n",
    "\n",
    "def save_transactions_csv(transactions, filename=\"supermarket_transactions.csv\"):\n",
    "    with open(filename, \"w\", newline='', encoding=\"utf-8\") as csvfile:\n",
    "        fieldnames = [\"TransactionID\", \"Items\"]\n",
    "        writer = csv.DictWriter(csvfile, fieldnames=fieldnames)\n",
    "        writer.writeheader()\n",
    "        for txn in transactions:\n",
    "            writer.writerow(txn)\n",
    "\n",
    "if __name__ == \"__main__\":\n",
    "    transactions = simulate_transactions()\n",
    "    save_transactions_csv(transactions)\n",
    "    print(f\"Simulated {len(transactions)} supermarket transactions and saved to 'supermarket_transactions.csv'.\")"
   ]
  },
  {
   "cell_type": "code",
   "execution_count": null,
   "id": "6e5701dd",
   "metadata": {},
   "outputs": [
    {
     "name": "stdout",
     "output_type": "stream",
     "text": [
      "     support       itemsets\n",
      "17  0.156333       (Cereal)\n",
      "10  0.155333     (Tomatoes)\n",
      "7   0.154667       (Apples)\n",
      "9   0.153000      (Oranges)\n",
      "11  0.152333     (Potatoes)\n",
      "6   0.152333  (Ground Beef)\n",
      "18  0.152333         (Rice)\n",
      "15  0.152000      (Spinach)\n",
      "2   0.152000         (Eggs)\n",
      "21  0.151667          (Tea)\n"
     ]
    },
    {
     "name": "stderr",
     "output_type": "stream",
     "text": [
      "C:\\Users\\billg\\AppData\\Roaming\\Python\\Python312\\site-packages\\mlxtend\\frequent_patterns\\fpcommon.py:161: DeprecationWarning: DataFrames with non-bool types result in worse computationalperformance and their support might be discontinued in the future.Please use a DataFrame with bool type\n",
      "  warnings.warn(\n"
     ]
    }
   ],
   "source": [
    "#Generated frequent itemsets with min_support=0.05 and saved top 10 to 'frequent_itemsets.csv'.\n",
    "import pandas as pd\n",
    "from mlxtend.frequent_patterns import apriori\n",
    "\n",
    "df = pd.read_csv(\"supermarket_transactions.csv\")\n",
    "df['ItemList'] = df['Items'].apply(lambda x: [item.strip() for item in x.split(\",\")])\n",
    "\n",
    "encoded_rows = []\n",
    "for items in df['ItemList']:\n",
    "    row = {item: 1 if item in items else 0 for item in ITEM_POOL}\n",
    "    encoded_rows.append(row)\n",
    "\n",
    "df_basket = pd.DataFrame(encoded_rows)\n",
    "\n",
    "frequent_itemsets = apriori(df_basket, min_support=0.05, use_colnames=True)\n",
    "frequent_itemsets = frequent_itemsets.sort_values(by='support', ascending=False)\n",
    "\n",
    "print(frequent_itemsets.head(10))\n",
    "frequent_itemsets['itemsets'] = frequent_itemsets['itemsets'].apply(lambda x: ', '.join(list(x)))\n",
    "frequent_itemsets.head(10).to_csv(\"frequent_itemsets.csv\", index=False)"
   ]
  }
 ],
 "metadata": {
  "kernelspec": {
   "display_name": "Python 3",
   "language": "python",
   "name": "python3"
  },
  "language_info": {
   "codemirror_mode": {
    "name": "ipython",
    "version": 3
   },
   "file_extension": ".py",
   "mimetype": "text/x-python",
   "name": "python",
   "nbconvert_exporter": "python",
   "pygments_lexer": "ipython3",
   "version": "3.12.6"
  }
 },
 "nbformat": 4,
 "nbformat_minor": 5
}
